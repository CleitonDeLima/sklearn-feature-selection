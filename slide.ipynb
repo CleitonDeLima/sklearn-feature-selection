{
 "cells": [
  {
   "cell_type": "markdown",
   "metadata": {
    "collapsed": true
   },
   "source": [
    "# Feature Selection\n",
    "\n",
    "\n",
    "A seleção de recursos é um processo que seleciona automaticamente os recursos em seus dados que mais contribuem para a predição ou da saída em que você está interessado.\n",
    "\n",
    "Ter muitos recursos irrelevantes nos dados pode diminuir a precisão dos modelos.  \n",
    "Três benefícios de executar a seleção de recursos antes da modelagem dos dados:"
   ]
  },
  {
   "cell_type": "markdown",
   "metadata": {},
   "source": [
    "- ##### Reduzir Overfitting:  \n",
    "Dados menos redundantes significa menos oportunidades de tomar decisões.\n",
    "  \n",
    "- ##### Melhora a Accuracy:  \n",
    "Dados sem redundancia melhora os resultados de precisão.  \n",
    "\n",
    "- ##### Reduz o tempo de treinamento:  \n",
    "Com a remoção de alguns dados o treinamento se torna mais rapido."
   ]
  },
  {
   "cell_type": "markdown",
   "metadata": {},
   "source": [
    "### Recursive Feature Elimination - *RFE*"
   ]
  },
  {
   "cell_type": "code",
   "execution_count": 34,
   "metadata": {},
   "outputs": [
    {
     "name": "stdout",
     "output_type": "stream",
     "text": [
      "Melhores selecionados recebem ranking 1: \n",
      "[3, 'sepal length (cm)']\n",
      "[1, 'sepal width (cm)']\n",
      "[2, 'petal length (cm)']\n",
      "[1, 'petal width (cm)']\n",
      "\n",
      "Features usadas:\n",
      "sepal width (cm)\n",
      "petal width (cm)\n"
     ]
    }
   ],
   "source": [
    "from sklearn import datasets\n",
    "from sklearn.feature_selection import RFE\n",
    "from sklearn.linear_model import LogisticRegression\n",
    "\n",
    "dataset = datasets.load_iris()\n",
    "features = dataset.feature_names\n",
    "\n",
    "model = LogisticRegression()\n",
    "\n",
    "# create the RFE model and select 3 attributes\n",
    "rfe = RFE(model, 2)\n",
    "rfe = rfe.fit(dataset.data, dataset.target)\n",
    "\n",
    "print('Melhores selecionados recebem ranking 1: ')\n",
    "for i, r in enumerate(rfe.ranking_):\n",
    "    print([r, features[i]])\n",
    "    \n",
    "print()\n",
    "\n",
    "print('Features usadas:')\n",
    "for i, s in enumerate(rfe.support_):\n",
    "    if s:\n",
    "        print(features[i])"
   ]
  },
  {
   "cell_type": "code",
   "execution_count": null,
   "metadata": {},
   "outputs": [],
   "source": []
  },
  {
   "cell_type": "code",
   "execution_count": null,
   "metadata": {},
   "outputs": [],
   "source": []
  }
 ],
 "metadata": {
  "kernelspec": {
   "display_name": "Python 3",
   "language": "python",
   "name": "python3"
  },
  "language_info": {
   "codemirror_mode": {
    "name": "ipython",
    "version": 3
   },
   "file_extension": ".py",
   "mimetype": "text/x-python",
   "name": "python",
   "nbconvert_exporter": "python",
   "pygments_lexer": "ipython3",
   "version": "3.6.5"
  }
 },
 "nbformat": 4,
 "nbformat_minor": 1
}
